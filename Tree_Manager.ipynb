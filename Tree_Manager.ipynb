{
 "cells": [
  {
   "cell_type": "code",
   "execution_count": null,
   "id": "b668af59-9cd4-4109-aa31-7e31a42bc301",
   "metadata": {},
   "outputs": [],
   "source": [
    "import pandas\n",
    "import os\n",
    "\n",
    "DATA_FILE = \"knowledge_base.json\"\n",
    "\n",
    "# Load or initialize knowledge base\n",
    "def load_knowledge():\n",
    "    if os.path.exists(DATA_FILE):\n",
    "        with open(DATA_FILE, \"r\") as f:\n",
    "            return json.load(f)\n",
    "    # Default tree\n",
    "    return {\n",
    "        \"question\": \"Is it an animal?\",\n",
    "        \"yes\": {\"question\": \"Does it live underwater?\", \"yes\": \"Goldfish\", \"no\": \"Dog\"},\n",
    "        \"no\": {\"question\": \"Is it electronic?\", \"yes\": \"Phone\", \"no\": \"Chair\"}\n",
    "    }\n",
    "\n",
    "def save_knowledge(tree):\n",
    "    with open(DATA_FILE, \"w\") as f:\n",
    "        json.dump(tree, f, indent=4)\n",
    "\n",
    "# Recursive function to play the game\n",
    "def play(node):\n",
    "    if isinstance(node, str):\n",
    "        ans = input(f\"Is it {node}? (y/n): \").strip().lower()\n",
    "        if ans == \"y\":\n",
    "            print(\" Yay! I guessed it right!\")\n",
    "        else:\n",
    "            print(\" I give up. What was it?\")\n",
    "            new_obj = input(\"Enter the correct answer: \").strip()\n",
    "            new_q = input(f\"Give me a question to distinguish {new_obj} from {node}: \").strip()\n",
    "            ans_for_new = input(f\"For {new_obj}, what is the answer to '{new_q}'? (y/n): \").strip().lower()\n",
    "            if ans_for_new == \"y\":\n",
    "                return {\"question\": new_q, \"yes\": new_obj, \"no\": node}\n",
    "            else:\n",
    "                return {\"question\": new_q, \"yes\": node, \"no\": new_obj}\n",
    "        return node\n",
    "\n",
    "    ans = input(f\"{node['question']} (y/n): \").strip().lower()\n",
    "    if ans == \"y\":\n",
    "        node[\"yes\"] = play(node[\"yes\"])\n",
    "    else:\n",
    "        node[\"no\"] = play(node[\"no\"])\n",
    "    return node\n",
    "\n",
    "\n",
    "if __name__ == \"__main__\":\n",
    "    tree = load_knowledge()\n",
    "    print(\"🤖 Welcome to the Smart Guessing Game!\\nThink of something, and I'll try to guess it.\")\n",
    "    tree = play(tree)\n",
    "    save_knowledge(tree)\n",
    "    print(\"✅ Knowledge saved for next time!\")\n"
   ]
  }
 ],
 "metadata": {
  "kernelspec": {
   "display_name": "Python (ml-gpu)",
   "language": "python",
   "name": "ml-gpu"
  },
  "language_info": {
   "codemirror_mode": {
    "name": "ipython",
    "version": 3
   },
   "file_extension": ".py",
   "mimetype": "text/x-python",
   "name": "python",
   "nbconvert_exporter": "python",
   "pygments_lexer": "ipython3",
   "version": "3.10.18"
  }
 },
 "nbformat": 4,
 "nbformat_minor": 5
}
